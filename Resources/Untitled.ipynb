{
 "cells": [
  {
   "cell_type": "code",
   "execution_count": 23,
   "metadata": {},
   "outputs": [],
   "source": [
    "import csv \n",
    "import os\n",
    "\n",
    "file = os.path.join(\"..\", \"Resources\", \"election_data.csv\")\n",
    "\n",
    "votes = 0\n",
    "vote_percent = {}\n",
    "vote = {}\n",
    "candidates = []\n",
    "results = []\n",
    "\n"
   ]
  },
  {
   "cell_type": "code",
   "execution_count": 24,
   "metadata": {},
   "outputs": [],
   "source": [
    "#if you want to iterate more than once you need to open the file again so that the cursor may find its way to the top of the file.\n",
    "with open(file, 'r') as csvfile:\n",
    "    csvreader = csv.reader(csvfile)\n",
    "    next(csvreader, None)\n",
    "    for row in csvreader:\n",
    "        if row[2] in vote:\n",
    "            vote[row[2]] = vote[row[2]] + 1\n",
    "        else:\n",
    "            vote[row[2]] = 1\n",
    "    votes += 1"
   ]
  },
  {
   "cell_type": "code",
   "execution_count": 25,
   "metadata": {},
   "outputs": [],
   "source": [
    "    for k,v in vote.items():\n",
    "        vote_percent[k] = str(round(((v/votes)*100),3)) + \"% (\"+str(v) + \")\""
   ]
  },
  {
   "cell_type": "code",
   "execution_count": 26,
   "metadata": {},
   "outputs": [
    {
     "name": "stdout",
     "output_type": "stream",
     "text": [
      "[('Khan', '221823100.0% (2218231)'), ('Correy', '70420000.0% (704200)'), ('Li', '49294000.0% (492940)'), (\"O'Tooley\", '10563000.0% (105630)')]\n"
     ]
    }
   ],
   "source": [
    "    for k in vote_percent.items():\n",
    "        candidates.append(k)\n",
    "print(candidates)"
   ]
  },
  {
   "cell_type": "code",
   "execution_count": null,
   "metadata": {},
   "outputs": [],
   "source": []
  }
 ],
 "metadata": {
  "kernelspec": {
   "display_name": "Python [conda env:PythonData]",
   "language": "python",
   "name": "conda-env-PythonData-py"
  },
  "language_info": {
   "codemirror_mode": {
    "name": "ipython",
    "version": 3
   },
   "file_extension": ".py",
   "mimetype": "text/x-python",
   "name": "python",
   "nbconvert_exporter": "python",
   "pygments_lexer": "ipython3",
   "version": "3.6.5"
  }
 },
 "nbformat": 4,
 "nbformat_minor": 2
}

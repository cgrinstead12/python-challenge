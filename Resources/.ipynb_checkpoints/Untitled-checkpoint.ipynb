{
 "cells": [
  {
   "cell_type": "code",
   "execution_count": 1,
   "metadata": {},
   "outputs": [],
   "source": [
    "import csv \n",
    "import os\n",
    "\n",
    "file = os.path.join(\"..\", \"Resources\", \"election_data.csv\")\n",
    "\n",
    "votes = 0\n",
    "vote_percent = {}\n",
    "vote = {}\n",
    "candidates = []\n",
    "results = []\n",
    "\n"
   ]
  },
  {
   "cell_type": "code",
   "execution_count": 4,
   "metadata": {},
   "outputs": [
    {
     "ename": "TabError",
     "evalue": "inconsistent use of tabs and spaces in indentation (<ipython-input-4-7e856b973262>, line 7)",
     "output_type": "error",
     "traceback": [
      "\u001b[1;36m  File \u001b[1;32m\"<ipython-input-4-7e856b973262>\"\u001b[1;36m, line \u001b[1;32m7\u001b[0m\n\u001b[1;33m    vote[row[2]] = vote[row[2]] + 1\u001b[0m\n\u001b[1;37m                                   ^\u001b[0m\n\u001b[1;31mTabError\u001b[0m\u001b[1;31m:\u001b[0m inconsistent use of tabs and spaces in indentation\n"
     ]
    }
   ],
   "source": [
    "#if you want to iterate more than once you need to open the file again so that the cursor may find its way to the top of the file.\n",
    "with open(file, 'r') as csvfile:\n",
    "csvreader = csv.reader(csvfile)\n",
    "next(csvreader, None)\n",
    "for row in csvreader:\n",
    "    if row[2] in vote:\n",
    "        vote[row[2]] = vote[row[2]] + 1\n",
    "    else:\n",
    "        vote[row[2]] = 1\n",
    "    votes += 1"
   ]
  },
  {
   "cell_type": "code",
   "execution_count": null,
   "metadata": {},
   "outputs": [],
   "source": []
  }
 ],
 "metadata": {
  "kernelspec": {
   "display_name": "Python [conda env:PythonData]",
   "language": "python",
   "name": "conda-env-PythonData-py"
  },
  "language_info": {
   "codemirror_mode": {
    "name": "ipython",
    "version": 3
   },
   "file_extension": ".py",
   "mimetype": "text/x-python",
   "name": "python",
   "nbconvert_exporter": "python",
   "pygments_lexer": "ipython3",
   "version": "3.6.5"
  }
 },
 "nbformat": 4,
 "nbformat_minor": 2
}
